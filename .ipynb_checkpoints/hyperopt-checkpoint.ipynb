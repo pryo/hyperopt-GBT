{
 "cells": [
  {
   "cell_type": "code",
   "execution_count": 2,
   "metadata": {},
   "outputs": [
    {
     "name": "stdout",
     "output_type": "stream",
     "text": [
      "22714it [6:21:58,  1.10s/it, best loss: 0.12307375272924026]\n"
     ]
    },
    {
     "ename": "FileNotFoundError",
     "evalue": "[Errno 2] No such file or directory: '~/Developer/santander/santander/params/1mar27'",
     "output_type": "error",
     "traceback": [
      "\u001b[0;31m---------------------------------------------------------------------------\u001b[0m",
      "\u001b[0;31mFileNotFoundError\u001b[0m                         Traceback (most recent call last)",
      "\u001b[0;32m<ipython-input-2-94e98b420a08>\u001b[0m in \u001b[0;36m<module>\u001b[0;34m\u001b[0m\n\u001b[1;32m     89\u001b[0m \u001b[0mparam_prefix\u001b[0m\u001b[0;34m=\u001b[0m\u001b[0;34m'~/Developer/santander/santander/params/'\u001b[0m\u001b[0;34m\u001b[0m\u001b[0;34m\u001b[0m\u001b[0m\n\u001b[1;32m     90\u001b[0m \u001b[0;34m\u001b[0m\u001b[0m\n\u001b[0;32m---> 91\u001b[0;31m \u001b[0msave\u001b[0m\u001b[0;34m(\u001b[0m\u001b[0mbest\u001b[0m\u001b[0;34m,\u001b[0m\u001b[0mos\u001b[0m\u001b[0;34m.\u001b[0m\u001b[0mpath\u001b[0m\u001b[0;34m.\u001b[0m\u001b[0mjoin\u001b[0m\u001b[0;34m(\u001b[0m\u001b[0mparam_prefix\u001b[0m\u001b[0;34m,\u001b[0m\u001b[0mexp_key\u001b[0m\u001b[0;34m)\u001b[0m\u001b[0;34m)\u001b[0m\u001b[0;34m\u001b[0m\u001b[0;34m\u001b[0m\u001b[0m\n\u001b[0m",
      "\u001b[0;32m<ipython-input-2-94e98b420a08>\u001b[0m in \u001b[0;36msave\u001b[0;34m(best, param_path)\u001b[0m\n\u001b[1;32m     73\u001b[0m \u001b[0;32mdef\u001b[0m \u001b[0msave\u001b[0m\u001b[0;34m(\u001b[0m\u001b[0mbest\u001b[0m\u001b[0;34m,\u001b[0m\u001b[0mparam_path\u001b[0m\u001b[0;34m)\u001b[0m\u001b[0;34m:\u001b[0m\u001b[0;34m\u001b[0m\u001b[0;34m\u001b[0m\u001b[0m\n\u001b[1;32m     74\u001b[0m     \u001b[0;31m#save the best\u001b[0m\u001b[0;34m\u001b[0m\u001b[0;34m\u001b[0m\u001b[0;34m\u001b[0m\u001b[0m\n\u001b[0;32m---> 75\u001b[0;31m     \u001b[0mfp\u001b[0m \u001b[0;34m=\u001b[0m \u001b[0mopen\u001b[0m\u001b[0;34m(\u001b[0m\u001b[0mparam_path\u001b[0m\u001b[0;34m,\u001b[0m\u001b[0;34m'w+'\u001b[0m\u001b[0;34m)\u001b[0m\u001b[0;34m\u001b[0m\u001b[0;34m\u001b[0m\u001b[0m\n\u001b[0m\u001b[1;32m     76\u001b[0m     \u001b[0mpkl\u001b[0m\u001b[0;34m.\u001b[0m\u001b[0mdump\u001b[0m\u001b[0;34m(\u001b[0m\u001b[0mbest\u001b[0m\u001b[0;34m,\u001b[0m\u001b[0mfp\u001b[0m\u001b[0;34m)\u001b[0m\u001b[0;34m\u001b[0m\u001b[0;34m\u001b[0m\u001b[0m\n\u001b[1;32m     77\u001b[0m     \u001b[0mfp\u001b[0m\u001b[0;34m.\u001b[0m\u001b[0mclose\u001b[0m\u001b[0;34m(\u001b[0m\u001b[0;34m)\u001b[0m\u001b[0;34m\u001b[0m\u001b[0;34m\u001b[0m\u001b[0m\n",
      "\u001b[0;31mFileNotFoundError\u001b[0m: [Errno 2] No such file or directory: '~/Developer/santander/santander/params/1mar27'"
     ]
    }
   ],
   "source": [
    "#load data\n",
    "import numpy as np\n",
    "\n",
    "from hyperopt import fmin, tpe, hp\n",
    "from hyperopt.mongoexp import MongoTrials\n",
    "\n",
    "\n",
    "#define objective function\n",
    "import pickle as pkl\n",
    "import os.path\n",
    "import Hyperopt_lightgbm\n",
    "\n",
    "space = {\n",
    "            \"num_iterations\": 99999999, \"early_stopping_rounds\": 3500,\n",
    "            'bagging_freq': hp.choice('bagging_freq',[5,10,30]),\n",
    "            'bagging_fraction': hp.uniform('bagging_fraction',0.1,0.8),\n",
    "            'boost_from_average': 'false',\n",
    "            'boost': 'gbdt',\n",
    "            'feature_fraction': hp.uniform('feature,fraction',0.01,0.9),\n",
    "            'learning_rate': hp.loguniform('lr',-10,-2),\n",
    "            'max_depth': -1,\n",
    "            'metric': 'auc',\n",
    "            'min_data_in_leaf': hp.quniform('min_data_in_leaf',50,150,10),\n",
    "            'num_leaves': hp.uniform('num_leaves',10,100),\n",
    "            'tree_learner': 'data',\n",
    "            'objective': 'binary',\n",
    "            'verbose': -1,\n",
    "            'device_type': 'gpu',\n",
    "            'gpu_platform_id': 0,\n",
    "            'gpu_device_id': 0\n",
    "        }\n",
    "\n",
    "#lr is changed from -2 -10 to -10 -2\n",
    "def objective(params):\n",
    "    import pandas as pd\n",
    "    training_frame = pd.read_csv(\"~/Developer/santander/santander/data/train.csv\")\n",
    "    \n",
    "    training_frame=training_frame.drop(columns=[\"ID_code\"])\n",
    "    y = training_frame[\"target\"]\n",
    "    X = training_frame.drop(columns=[\"target\"])\n",
    "\n",
    "    X = X.to_numpy()\n",
    "    y = y.to_numpy()\n",
    "    from sklearn.model_selection import cross_val_score\n",
    "    # put fixed(non-hp object in here)\n",
    "    decoded_param = {\n",
    "        'bagging_freq': int(params['bagging_freq']),\n",
    "        'bagging_fraction': params['bagging_fraction'],\n",
    "        'boost_from_average': 'false',\n",
    "        'boost': 'gbdt',\n",
    "        'feature_fraction': params['feature_fraction'],\n",
    "        'learning_rate': params['learning_rate'],\n",
    "        'max_depth': -1,\n",
    "        'metric': 'auc',\n",
    "        'min_data_in_leaf': int(params['min_data_in_leaf']),\n",
    "        'num_leaves': int(params['num_leaves']),\n",
    "        'tree_learner': 'data',\n",
    "        'n_jobs':8,\n",
    "        'objective': 'binary',\n",
    "        'verbose': -1,\n",
    "        'device_type': 'gpu',\n",
    "        'gpu_platform_id': 0,\n",
    "        'gpu_device_id': 0\n",
    "    }\n",
    "    # the stuff fixed\n",
    "    import lightgbm as lgb\n",
    "    clf = lgb.LGBMClassifier(**decoded_param)\n",
    "\n",
    "    mean_auc = cross_val_score(clf, X, y, scoring='roc_auc', cv=5).mean()\n",
    "    print(\"auc {:.3f} params {}\".format(mean_auc, params))\n",
    "    return {'loss': 1 - mean_auc, 'status':'ok'}\n",
    "\n",
    "def save(best,param_path):\n",
    "    #save the best\n",
    "    fp = open(param_path,'wb+')\n",
    "    pkl.dump(best,fp)\n",
    "    fp.close()\n",
    "\n",
    "\n",
    "\n",
    "\n",
    "#make the trail\n",
    "\n",
    "exp_key ='1mar27'\n",
    "trials = MongoTrials('mongo://localhost:27017/santander/jobs', exp_key=exp_key)\n",
    "#start running\n",
    "best = fmin(objective,space=space, trials=trials, algo=tpe.suggest, max_evals=500)\n",
    "\n",
    "param_prefix='./params/'\n",
    "\n",
    "save(best,os.path.join(param_prefix,exp_key))\n"
   ]
  },
  {
   "cell_type": "code",
   "execution_count": 3,
   "metadata": {},
   "outputs": [
    {
     "data": {
      "text/plain": [
       "{'bagging_fraction': 0.7444731773296052,\n",
       " 'bagging_freq': 1,\n",
       " 'feature,fraction': 0.10305784088579473,\n",
       " 'lr': 0.13178656856534132,\n",
       " 'min_data_in_leaf': 140.0,\n",
       " 'num_leaves': 66.40058226142769}"
      ]
     },
     "execution_count": 3,
     "metadata": {},
     "output_type": "execute_result"
    }
   ],
   "source": [
    "best"
   ]
  },
  {
   "cell_type": "code",
   "execution_count": 5,
   "metadata": {},
   "outputs": [],
   "source": [
    "path_test=os.path.join(param_prefix,exp_key)\n"
   ]
  },
  {
   "cell_type": "code",
   "execution_count": 12,
   "metadata": {},
   "outputs": [],
   "source": [
    "filepointer =  open('./params/1mar27','wb+')"
   ]
  },
  {
   "cell_type": "code",
   "execution_count": 13,
   "metadata": {},
   "outputs": [],
   "source": [
    "pkl.dump(best,filepointer)"
   ]
  },
  {
   "cell_type": "code",
   "execution_count": null,
   "metadata": {},
   "outputs": [],
   "source": []
  }
 ],
 "metadata": {
  "kernelspec": {
   "display_name": "Python 3",
   "language": "python",
   "name": "python3"
  },
  "language_info": {
   "codemirror_mode": {
    "name": "ipython",
    "version": 3
   },
   "file_extension": ".py",
   "mimetype": "text/x-python",
   "name": "python",
   "nbconvert_exporter": "python",
   "pygments_lexer": "ipython3",
   "version": "3.6.7"
  }
 },
 "nbformat": 4,
 "nbformat_minor": 2
}
